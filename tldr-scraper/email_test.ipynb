{
 "cells": [
  {
   "cell_type": "markdown",
   "metadata": {},
   "source": [
    "# Sources:\n",
    "- https://www.youtube.com/watch?v=K21BSZPFIjQ"
   ]
  },
  {
   "cell_type": "markdown",
   "metadata": {},
   "source": [
    "Extract selected mails from your gmail account\n",
    "\n",
    "1. Make sure you enable IMAP in your gmail settings\n",
    "(Log on to your Gmail account and go to Settings, See All Settings, and select\n",
    " Forwarding and POP/IMAP tab. In the \"IMAP access\" section, select Enable IMAP.)\n",
    "\n",
    "2. If you have 2-factor authentication, gmail requires you to create an application\n",
    "specific password that you need to use. \n",
    "Go to your Google account settings and click on 'Security'.\n",
    "Scroll down to App Passwords under 2 step verification.\n",
    "Select Mail under Select App. and Other under Select Device. (Give a name, e.g., python)\n",
    "The system gives you a password that you need to use to authenticate from python."
   ]
  },
  {
   "cell_type": "code",
   "execution_count": 1,
   "metadata": {},
   "outputs": [],
   "source": [
    "# Importing libraries\n",
    "import re\n",
    "import imaplib\n",
    "import email\n",
    "import pandas as pd\n",
    "import yaml  # To load saved login credentials from a yaml file"
   ]
  },
  {
   "cell_type": "code",
   "execution_count": 2,
   "metadata": {},
   "outputs": [],
   "source": [
    "with open(\"credentials.yml\") as f:\n",
    "    content = f.read()\n",
    "\n",
    "# from credentials.yml import user name and password\n",
    "my_credentials = yaml.load(content, Loader=yaml.FullLoader)\n",
    "\n",
    "# Load the user name and passwd from yaml file\n",
    "user, password = my_credentials[\"user\"], my_credentials[\"password\"]\n",
    "\n",
    "# URL for IMAP connection\n",
    "imap_url = 'imap.gmail.com'\n",
    "\n",
    "# Connection with GMAIL using SSL\n",
    "my_mail = imaplib.IMAP4_SSL(imap_url)\n",
    "\n",
    "# Log in using your credentials\n",
    "my_mail.login(user, password)\n",
    "\n",
    "# Select the Inbox to fetch messages\n",
    "my_mail.select('Inbox')\n",
    "\n",
    "\n",
    "# Define Key and Value for email search\n",
    "# For other keys (criteria): https://gist.github.com/martinrusev/6121028#file-imap-search\n",
    "key = 'FROM'\n",
    "value = 'dan@tldrnewsletter.com'\n",
    "# Search for emails with specific key and value\n",
    "_, data = my_mail.search(None, key, value)\n",
    "\n",
    "mail_id_list = data[0].split()  # IDs of all emails that we want to fetch\n",
    "\n",
    "msgs = []  # empty list to capture all messages\n",
    "# Iterate through messages and extract data into the msgs list\n",
    "for num in mail_id_list:\n",
    "    # RFC822 returns whole message (BODY fetches just body)\n",
    "    typ, data = my_mail.fetch(num, '(RFC822)')\n",
    "    msgs.append(data)\n",
    "\n",
    "# Now we have all messages, but with a lot of details\n",
    "# Let us extract the right text and print on the screen\n",
    "\n",
    "# In a multipart e-mail, email.message.Message.get_payload() returns a\n",
    "# list with one item for each part. The easiest way is to walk the message\n",
    "# and get the payload on each part:\n",
    "# https://stackoverflow.com/questions/1463074/how-can-i-get-an-email-messages-text-content-using-python\n",
    "\n",
    "\n",
    "# NOTE that a Message object consists of headers and payloads.\n",
    "#dic = {}\n",
    "information = []\n",
    "for msg in msgs[::-1]:\n",
    "    for response_part in msg:\n",
    "        if type(response_part) is tuple:\n",
    "            my_msg = email.message_from_bytes((response_part[1]))\n",
    "            for part in my_msg.walk():\n",
    "                # print(part.get_content_type())\n",
    "                if part.get_content_type() == 'text/plain':\n",
    "                    payload = part.get_payload(decode=True).decode(part.get_content_charset('utf-8'))\n",
    "                    information.append(payload)\n",
    "                    #dic[my_msg.get(\"Date\")] = re.findall(r'https?://.*', payload)\n",
    "\n",
    "\n",
    "#df = pd.DataFrame(dict([(key, pd.Series(value)) for key, value in dic.items()]))\n"
   ]
  },
  {
   "cell_type": "markdown",
   "metadata": {},
   "source": [
    "Filtering content"
   ]
  },
  {
   "cell_type": "code",
   "execution_count": 3,
   "metadata": {},
   "outputs": [],
   "source": [
    "#filtering email body for news header\n",
    "filteredInfo = []\n",
    "for i in information:\n",
    "    #filtering out everything thats not the header\n",
    "    index = i.index(\"\\r\\n\\r\\nSign Up\")\n",
    "    newsHeader = i[:index]\n",
    "    filteredInfo.append(newsHeader.replace(\"\\r\\n\", \" \").replace(\"\\xa0 \",\"\"))"
   ]
  },
  {
   "cell_type": "code",
   "execution_count": 4,
   "metadata": {},
   "outputs": [
    {
     "name": "stdout",
     "output_type": "stream",
     "text": [
      "Hugging Face's Safetensors service can be compromised to hijack user models\n",
      "BlackRock's spot bitcoin ETF had another big day, recording over $1.357 billion in volume, exceeding Monday's $1.3 billion\n",
      "Nvidia achieved the significant milestone of surpassing Intel in annual revenue by ending the fiscal year with $60.9B in revenue\n",
      "Samsung revealed a new wearable called the Galaxy Ring during the 2024 Mobile World Conference\n",
      "Google’s Gemini Advanced was tested against ChatGPT with three coding challenges - Gemini performed poorly comparatively \n",
      "Creating shareable content contributed greatly to Pretty Little Marketer’s social media growth\n",
      "Apple has reportedly ended work on its electric car project.\n",
      "Mistral, a French AI start-up, has announced a new model for its API along with an Azure partnership\n",
      "The nine recently launched spot bitcoin ETFs recorded a combined daily volume of $2.4 billion on Monday\n",
      "Last month, Beyond’s board member Marcus Lemonis did something unconventional — and generally frowned upon in the design community\n",
      "Netflix's bpftop is a command-line tool for optimizing and monitoring eBPF programs in real time\n",
      "The White House released a report emphasizing the need to shift cybersecurity responsibility to large tech companies and the government\n",
      "An effective ad copy clearly communicates ‘what’s in it for them’ to users.\n",
      "Lenovo's ThinkBook Transparent Display Laptop is a 17.3-inch notebook with a see-through screen.\n",
      "AI's role in recent layoffs is more significant than corporations admit.\n",
      "Google has acknowledged an issue with its AI model Gemini \n",
      "Prescription orders in the US are being delayed as pharmacies are experiencing a \"nation-state\" cyber attack\n",
      "Carson Group, a $30 billion investment advisory platform, is set to offer four spot Bitcoin ETFs to its clients\n",
      "Techstars was once one of the world’s leading accelerator programs, but it has steadily been eclipsed by Y Combinator. \n",
      "Unsplash+ celebrated its first birthday with a dynamic rebranding initiative with award-winning brand agency Collins\n",
      "ChatGPT itself couldn’t figure out how to implement GPT in SQL \n",
      "The adoption mentality of users in each market stage is often forgotten.\n",
      "Tesla's latest clip of its Optimus humanoid robot shows it smoothly walking around one of its testing facilities\n",
      "Stability AI has announced Stable Diffusion 3, a Diffusion Transformer similar to Sora from OpenAI \n",
      "Australian telco Tangerine suffered a data breach that resulted in 230,000 customers' personal information being exposed\n",
      "Reddit has announced plans to IPO under the ticker RDDT\n",
      "Dynaboard, a platform that aimed to streamline the process from idea to production, has announced its integration into Figma\n",
      "ddit has filed for an initial public offering (IPO) with the SEC\n",
      "Meta has created a system called TestGen-LLM that automatically generates test cases\n",
      "Sudo for Windows is a new feature in Windows 11 Insider Preview Build 26052\n",
      "Mastering the art of conversion funnel analysis can help marketers pinpoint where potential customers drop off\n",
      "Nvidia recorded the largest-ever single-day jump in market value a day after it announced its quarterly earnings\n",
      "An overreliance on Total Addressable Market in startup pitches and product scoping can cause issues like a lack of credibility\n",
      "Google has released the weights for its Gemma 2B and 7B parameter models\n",
      "Texas-based crypto firm Lejilex and lobby group Crypto Freedom Alliance of Texas have sued the SEC\n",
      "Despite much competition, Photoshop is still a huge design tool in 2024\n",
      "React trends in 2024 📈, Google open-sources Gemma 🤖, myths junior devs believe 🤔 \n",
      "Tinder began in 2012, developed its swipe feature in 2013, and by 2019 had 5.2 million paying subscribers and $1.4 billion in revenue\n",
      "Google's new family of AI language models, Gemma, are free open-weights models built on technology similar to Gemini\n",
      "Masayoshi Son's SoftBank Group Corp. is launching Izanagi, a $100 billion chip venture aimed at competing with Nvidia and focusing on AI applications.\n",
      "Enforcers from the US and UK disrupted a ransomware group they say has targeted more than 2,000 victims and taken over $120 million in ransom payments\n",
      "The UK government has quietly updated the logo on its official website to reflect King Charles III's preference for the Tudor Crown\n",
      "Crypto wallet MetaMask saw a 55% increase in active users in the past four months\n",
      "Elon Musk announced that a patient implanted with Neuralink's brain technology can control a computer mouse through thinking\n",
      "100 million people were using ChatGPT weekly by November 2023.\n",
      "Social proof is a shortcut people take to determine how to act by relying on what others are doing\n",
      "Elon Musk says that the first human to be implanted with Neuralink's brain chip has made a full recovery with no ill effects.\n",
      "Google is introducing \"Gemini Business\" and \"Gemini Enterprise\" plans for Workspace customers\n",
      "The Japanese government has greenlit a bill allowing venture capital firms and investment funds to acquire crypto assets\n",
      "Figma’s CEO Dylan Field will use the $1 billion cash from Adobe's breakup fee to acquire tech companies.\n",
      "Google's motives for deprecating third-party cookies are likely commercial, not privacy-driven\n",
      "GitLab has announced the release of GitLab 16.9.\n",
      "User Stories are pivotal in guiding development and fostering collaboration by focusing on users' desired outcomes\n",
      "ChatGPT has seen declining web traffic in five of the past eight months\n",
      "Defining and measuring design quality within organizations can be challenging\n",
      "Prompt Shield is a technology designed to redirect US users seeking political and voting information to authoritative sources like TurboVote. \n",
      "U.S. Internet’s 'Securence' email-providing division had a publicly exposed webpage that listed every email of its 6,500 clients\n",
      "Crypto venture funding totaled $1.9 billion in Q4, a 2.5% increase from the previous quarter\n",
      "OpenAI has reportedly reached a valuation of over $80 billion following a deal with VC firm Thrive Capital\n",
      "The interface for TikTok's native app in the Vision Pro will look familiar to anyone who has used TikTok’s apps\n",
      "Gemini 1.5 outperformed GPT-4 in almost all aspects\n",
      "The influencer marketing market in the US is expected to reach $19.8B in 2024\n",
      "OpenAI has finalized a deal that values it at more than $80 billion\n"
     ]
    }
   ],
   "source": [
    "for i in filteredInfo:\n",
    "    print(i)"
   ]
  },
  {
   "cell_type": "code",
   "execution_count": null,
   "metadata": {},
   "outputs": [],
   "source": []
  }
 ],
 "metadata": {
  "kernelspec": {
   "display_name": "Python 3",
   "language": "python",
   "name": "python3"
  },
  "language_info": {
   "codemirror_mode": {
    "name": "ipython",
    "version": 3
   },
   "file_extension": ".py",
   "mimetype": "text/x-python",
   "name": "python",
   "nbconvert_exporter": "python",
   "pygments_lexer": "ipython3",
   "version": "3.8.18"
  }
 },
 "nbformat": 4,
 "nbformat_minor": 2
}
