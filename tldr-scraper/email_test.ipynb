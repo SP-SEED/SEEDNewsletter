{
 "cells": [
  {
   "cell_type": "markdown",
   "metadata": {},
   "source": [
    "# Sources:\n",
    "- https://www.youtube.com/watch?v=K21BSZPFIjQ"
   ]
  },
  {
   "cell_type": "markdown",
   "metadata": {},
   "source": [
    "Extract selected mails from your gmail account\n",
    "\n",
    "1. Make sure you enable IMAP in your gmail settings\n",
    "(Log on to your Gmail account and go to Settings, See All Settings, and select\n",
    " Forwarding and POP/IMAP tab. In the \"IMAP access\" section, select Enable IMAP.)\n",
    "\n",
    "2. If you have 2-factor authentication, gmail requires you to create an application\n",
    "specific password that you need to use. \n",
    "Go to your Google account settings and click on 'Security'.\n",
    "Scroll down to App Passwords under 2 step verification.\n",
    "Select Mail under Select App. and Other under Select Device. (Give a name, e.g., python)\n",
    "The system gives you a password that you need to use to authenticate from python."
   ]
  },
  {
   "cell_type": "code",
   "execution_count": 1,
   "metadata": {},
   "outputs": [],
   "source": [
    "# Importing libraries\n",
    "import re\n",
    "import imaplib\n",
    "import email\n",
    "import pandas as pd\n",
    "import yaml  # To load saved login credentials from a yaml file"
   ]
  },
  {
   "cell_type": "code",
   "execution_count": 2,
   "metadata": {},
   "outputs": [],
   "source": [
    "with open(\"credentials.yml\") as f:\n",
    "    content = f.read()\n",
    "\n",
    "# from credentials.yml import user name and password\n",
    "my_credentials = yaml.load(content, Loader=yaml.FullLoader)\n",
    "\n",
    "# Load the user name and passwd from yaml file\n",
    "user, password = my_credentials[\"user\"], my_credentials[\"password\"]\n",
    "\n",
    "# URL for IMAP connection\n",
    "imap_url = 'imap.gmail.com'\n",
    "\n",
    "# Connection with GMAIL using SSL\n",
    "my_mail = imaplib.IMAP4_SSL(imap_url)\n",
    "\n",
    "# Log in using your credentials\n",
    "my_mail.login(user, password)\n",
    "\n",
    "# Select the Inbox to fetch messages\n",
    "my_mail.select('Inbox')\n",
    "\n",
    "# Define Key and Value for email search\n",
    "# For other keys (criteria): https://gist.github.com/martinrusev/6121028#file-imap-search\n",
    "key = 'FROM'\n",
    "value = 'dan@tldrnewsletter.com'\n",
    "# Search for emails with specific key and value\n",
    "_, data = my_mail.search(None, key, value)\n",
    "\n",
    "mail_id_list = data[0].split()  # IDs of all emails that we want to fetch\n",
    "\n",
    "msgs = []  # empty list to capture all messages\n",
    "# Iterate through messages and extract data into the msgs list\n",
    "for num in mail_id_list:\n",
    "    # RFC822 returns whole message (BODY fetches just body)\n",
    "    typ, data = my_mail.fetch(num, '(RFC822)')\n",
    "    msgs.append(data)\n",
    "\n",
    "# Now we have all messages, but with a lot of details\n",
    "# Let us extract the right text and print on the screen\n",
    "\n",
    "# In a multipart e-mail, email.message.Message.get_payload() returns a\n",
    "# list with one item for each part. The easiest way is to walk the message\n",
    "# and get the payload on each part:\n",
    "# https://stackoverflow.com/questions/1463074/how-can-i-get-an-email-messages-text-content-using-python\n",
    "\n",
    "# NOTE that a Message object consists of headers and payloads.\n",
    "dic = {}\n",
    "for msg in msgs[::-1]:\n",
    "    for response_part in msg:\n",
    "        if type(response_part) is tuple:\n",
    "            my_msg = email.message_from_bytes((response_part[1]))\n",
    "            for part in my_msg.walk():\n",
    "                # print(part.get_content_type())\n",
    "                if part.get_content_type() == 'text/plain':\n",
    "                    payload = part.get_payload(decode=True).decode(part.get_content_charset('utf-8'))\n",
    "                    dic[my_msg.get(\"Date\")] = re.findall(r'https?://.*', payload)\n",
    "\n",
    "\n",
    "df = pd.DataFrame(dict([(key, pd.Series(value)) for key, value in dic.items()]))"
   ]
  },
  {
   "cell_type": "code",
   "execution_count": 3,
   "metadata": {},
   "outputs": [
    {
     "data": {
      "text/html": [
       "<div>\n",
       "<style scoped>\n",
       "    .dataframe tbody tr th:only-of-type {\n",
       "        vertical-align: middle;\n",
       "    }\n",
       "\n",
       "    .dataframe tbody tr th {\n",
       "        vertical-align: top;\n",
       "    }\n",
       "\n",
       "    .dataframe thead th {\n",
       "        text-align: right;\n",
       "    }\n",
       "</style>\n",
       "<table border=\"1\" class=\"dataframe\">\n",
       "  <thead>\n",
       "    <tr style=\"text-align: right;\">\n",
       "      <th></th>\n",
       "    </tr>\n",
       "  </thead>\n",
       "  <tbody>\n",
       "  </tbody>\n",
       "</table>\n",
       "</div>"
      ],
      "text/plain": [
       "Empty DataFrame\n",
       "Columns: []\n",
       "Index: []"
      ]
     },
     "execution_count": 3,
     "metadata": {},
     "output_type": "execute_result"
    }
   ],
   "source": [
    "df"
   ]
  }
 ],
 "metadata": {
  "kernelspec": {
   "display_name": "Python 3",
   "language": "python",
   "name": "python3"
  },
  "language_info": {
   "codemirror_mode": {
    "name": "ipython",
    "version": 3
   },
   "file_extension": ".py",
   "mimetype": "text/x-python",
   "name": "python",
   "nbconvert_exporter": "python",
   "pygments_lexer": "ipython3",
   "version": "3.11.5"
  }
 },
 "nbformat": 4,
 "nbformat_minor": 2
}
